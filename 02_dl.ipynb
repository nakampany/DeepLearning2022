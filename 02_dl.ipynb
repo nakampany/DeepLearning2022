{
  "cells": [
    {
      "cell_type": "markdown",
      "source": [
        "# scikit-learnを用いた機械学習\n",
        "- scikit-learnはPythonの機械学習ライブラリです．\n",
        "- オープンソースで誰でも無償利用可能です．\n",
        "- 特に，<b>多くのライブラリを同じ使い方で使える</b>という点が大変優れています．\n",
        "  - Javaのポリモーフィズムをイメージしてください．\n",
        "  - アルゴリズムAも，BもCも，使うだけなら全部インスタンス化して.fit()，.predict()するだけ！\n",
        "- ということで，本日はアルゴリズムの種類はよくわからないけど，ブラックボックス的に様々なAIを使ってみる！という体験をしてみましょう．\n",
        "- 図で示すと以下のような感じです．\n",
        "\n",
        "![005_img1.png](data:image/png;base64,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)"
      ],
      "metadata": {
        "id": "JBqNH303MUNS"
      }
    },
    {
      "cell_type": "code",
      "execution_count": null,
      "metadata": {
        "id": "TJ03Mum17XIn",
        "outputId": "37db1e1f-b738-47d9-ea0e-97721080abf1",
        "colab": {
          "base_uri": "https://localhost:8080/"
        }
      },
      "outputs": [
        {
          "output_type": "stream",
          "name": "stdout",
          "text": [
            "   sepalLen  sepalWid  petalLen  petalWid\n",
            "0       5.1       3.5       1.4       0.2\n",
            "1       4.9       3.0       1.4       0.2\n",
            "2       4.7       3.2       1.3       0.2\n",
            "3       4.6       3.1       1.5       0.2\n",
            "4       5.0       3.6       1.4       0.2\n",
            "['setosa' 'setosa' 'setosa' 'setosa' 'setosa']\n"
          ]
        }
      ],
      "source": [
        "##########################################\n",
        "#  まずは必要なライブラリをimportする．\n",
        "##########################################\n",
        "# pandasをpdとしてimportする．\n",
        "import pandas as pd\n",
        "# 機械学習ライブラリsklearnからdatasetsをimportする．\n",
        "from sklearn import datasets\n",
        "\n",
        "# irisデータをロード\n",
        "iris = datasets.load_iris()\n",
        "# irisはクラスなので，iris.dataをDataFrameに変換する．\n",
        "X = pd.DataFrame(iris.data, columns=[\"sepalLen\", \"sepalWid\", \"petalLen\", \"petalWid\"])\n",
        "# 分類対象はyとしておく\n",
        "y = iris.target_names[iris.target]\n",
        "# 上5行を表示する．\n",
        "print(X.head())  # .head()で，DataFrameの上５行を表示できる．\n",
        "print(y[:5])  # yはnumpy配列なので，スライシングで表示する．"
      ]
    },
    {
      "cell_type": "markdown",
      "metadata": {
        "id": "gVweHnG_7XIr"
      },
      "source": [
        "# 機械学習を試してみよう\n",
        "機械学習は理論を構築するとなると容易ではないが，使うだけであれば近年の充実したライブラリのおかげで非常に容易である．本講義では，まず機械学習を使えるようになってから，理論に進んでいこうと思う．\n",
        "\n",
        "## 教師あり学習\n",
        "\n",
        "教師あり学習は{特徴量ベクト, 教師ラベル}のペアの集合体（データセット）を元に分類や回帰のルールを自動で学習する手法である．今回の場合，{X, y}となる．学習アルゴリズムは様々なものがある．\n",
        "- ニューラルネットワーク (NN: Neural Network)\n",
        "- ナイーブベイズ (NB: Naive Bayes)\n",
        "- 決定木 (DT: Decision Tree)\n",
        "- ランダムフォレスト (RF: Random Forest)\n",
        "- サポートベクターマシン (SVM: Support Vector Machine)\n",
        "\n",
        "## パーセプトロンを試す\n",
        "はじめに，ニューラルネットワークの元となった基本アルゴリズムパーセプトロン（Perceptron）を使ってみよう．アルゴリズムの名称は今回気にしなくても良い．とりあえずは，アルゴリズムAをブラックボックス的に使ってみましょう．"
      ]
    },
    {
      "cell_type": "code",
      "execution_count": null,
      "metadata": {
        "id": "DcvFWKiZ7XIr",
        "outputId": "2646f363-0321-4f75-aeb0-57e8ac093a56",
        "colab": {
          "base_uri": "https://localhost:8080/"
        }
      },
      "outputs": [
        {
          "output_type": "stream",
          "name": "stdout",
          "text": [
            "誤分類:78\n",
            "正解率: 0.48\n"
          ]
        }
      ],
      "source": [
        "# Perceptronというアルゴリズムをimportする．\n",
        "from sklearn.linear_model import Perceptron\n",
        "\n",
        "# 1. パーセプトロンのインスタンスを生成する．引数はハイパーパラメータだが気にしなくてよい．\n",
        "ppn = Perceptron(max_iter=40, eta0=0.1, random_state=0, shuffle=True)\n",
        "\n",
        "# 2. 訓練データ{X, y}を用いて，モデルを訓練する．\n",
        "ppn.fit(X, y)           \n",
        "\n",
        "# 3. 訓練済みのモデルppnを用いて，花の種類をXから予測してみる．\n",
        "y_pred = ppn.predict(X)\n",
        "\n",
        "# 推定精度の表示\n",
        "print('誤分類:%d' % (y != y_pred).sum())\n",
        "print('正解率: %.2f' % ((y == y_pred).sum()/len(y)))"
      ]
    },
    {
      "cell_type": "markdown",
      "metadata": {
        "id": "o7RKL3r57XIt"
      },
      "source": [
        "## scikit-learnを用いた教師あり学習プログラミング\n",
        "### AIモデル開発の流れ\n",
        "上の図で示した通り，AIは使ってみるだけならば以下の3手順でプログラミングできてしまう．\n",
        "\n",
        "1. モデルをインスタンス化する（Pythonはnewとか要らない）．\n",
        "    ```python:test.py\n",
        "    ppn = Perceptron(max_iter=40, eta0=0.1, random_state=0, shuffle=True)\n",
        "    ```\n",
        "  - 1のインスタンス化時の引数は，学習の効率に影響するパラメータ，即ち，人為的に調整が可能な係数（ハイパーパラメータ）である．\n",
        "  - パラメータはアルゴリズムの理論を理解しないと意味が分からないため，機会があれば調べてみてほしい．\n",
        "2. 訓練データでモデルを訓練する\n",
        "    ```python:test.py\n",
        "    ppn.fit(X, y)\n",
        "    ```\n",
        "3. 訓練済みモデルで検証データの予測結果を求める．\n",
        "    ```python:test.py\n",
        "    y_pred = ppn.predict(X)\n",
        "    ```\n",
        "  - 学習が完了したモデルppnを用いて，もう一度入力特徴量Xを与えて予測を行ってみる．\n",
        "  - この時，教師ラベルyは与えない点に着目してほしい．一度学習を行えば，正解が未知の入力が与えられたときに予測が実践できるということを確認している．\n",
        "\n",
        "### 予測精度の評価\n",
        "- 詳細な説明は次週行うが，シンプルに予測結果と正解ラベルが一致しているか？を精度と呼び，これで評価をしてみよう．\n",
        "  ```python:test.py\n",
        "  (y == y_pred).sum()/len(y)\n",
        "  ```\n",
        "    - 分類精度の評価は教師ラベルyとどれだけ一致したかとなるため，正解率は上記で算出できる．\n",
        "    - (y == y_pred)は教師ラベルと予測結果の一致を確認しており，boolean配列となる．\n",
        "    - これを.sum()することでTrueを1と見立てた加算が行われる．\n",
        "    - それをlen(y)，即ち教師ラベルの数で割ると正解率となる．\n",
        "\n",
        "## 様々なアルゴリズムを試す\n",
        "- 前述の通り，scikit-learnに実装されているアルゴリズムは，基本同じように使うことができる．\n",
        "- したがって，アルゴリズムAだろうがBだろうが，上述の3行で（1行目のインスタンスだけ変えて）実行できる．\n",
        "- せっかくなので，色々なアルゴリズムを試してみよう．"
      ]
    },
    {
      "cell_type": "code",
      "execution_count": null,
      "metadata": {
        "id": "Gdypi_Ac7XIy",
        "outputId": "bb226039-9473-4109-aa67-a1379fec3af3",
        "colab": {
          "base_uri": "https://localhost:8080/"
        }
      },
      "outputs": [
        {
          "output_type": "stream",
          "name": "stdout",
          "text": [
            "Neural Network \t accuracy:0.33\n",
            "Naive Bayes \t accuracy:0.96\n",
            "Decision Tree \t accuracy:1.00\n",
            "Random Forest \t accuracy:0.97\n",
            "SVM       \t accuracy:0.99\n"
          ]
        }
      ],
      "source": [
        "# Neural Networkは別名Multi layer perceptron（多層パーセプトロン）\n",
        "from sklearn.neural_network import MLPClassifier\n",
        "nn = MLPClassifier(solver='lbfgs', alpha=1e-5, hidden_layer_sizes=(5, 2), random_state=1)\n",
        "nn.fit(X, y)\n",
        "y_pred = nn.predict(X)\n",
        "print('Neural Network \\t accuracy:%.2f' % ((y == y_pred).sum()/len(y)) )\n",
        "\n",
        "# GaussianNBはガウス分布ベースのNaive Bayes\n",
        "from sklearn.naive_bayes import GaussianNB\n",
        "nb = GaussianNB()\n",
        "nb.fit(X, y)\n",
        "y_pred = nb.predict(X)\n",
        "print('Naive Bayes \\t accuracy:%.2f' % ((y == y_pred).sum()/len(y)) )\n",
        "\n",
        "# Decision Tree 決定木\n",
        "from sklearn.tree import DecisionTreeClassifier\n",
        "dt = DecisionTreeClassifier()\n",
        "dt.fit(X, y)\n",
        "y_pred = dt.predict(X)\n",
        "print('Decision Tree \\t accuracy:%.2f' % ((y == y_pred).sum()/len(y)) )\n",
        "\n",
        "# Random Forest\n",
        "from sklearn.ensemble import RandomForestClassifier\n",
        "rf = RandomForestClassifier(n_estimators=100, max_depth=2, random_state=0)\n",
        "rf.fit(X, y)\n",
        "y_pred = rf.predict(X)\n",
        "print('Random Forest \\t accuracy:%.2f' % ((y == y_pred).sum()/len(y)) )\n",
        "\n",
        "# SVM : Support Vector Machine の Classification（分類）なのでSVC\n",
        "from sklearn.svm import SVC\n",
        "svm = SVC(gamma='auto')\n",
        "svm.fit(X, y)\n",
        "y_pred = svm.predict(X)\n",
        "print('SVM       \\t accuracy:%.2f' % ((y == y_pred).sum()/len(y)) )"
      ]
    },
    {
      "cell_type": "markdown",
      "metadata": {
        "id": "NAxLoZXK7XI0"
      },
      "source": [
        "## 学習データと検証データ\n",
        "とうとう推定精度100%を達成してしまったがちょっとまってほしい．\n",
        "\n",
        "現状では{X, y}のペアを学習して，{X, ?}を予測しており，既に学習したことのあるデータで予測を行っている．即ち，テストの問題を事前にカンニングして高い点数を取っているのと同じなのである．そこで，モデルの検証を行う方法として，データセットを学習データと検証データに分割するという方法がある．この方法では，データセットの9割を学習用に，1割を検証用に事前に分割し，検証用データの推定精度を用いてモデルの検証を行う．\n",
        "\n",
        "ただし，分割の際には先頭15個：残り135個のような分割を行うのはよろしくない．yを見てみるとわかるが，これだとsetosaが15個と残り135個のデータに分割されてしまい，クラスが非常に偏ってしまう．一般的にこのようなケースでは**ランダムサンプリング**することで対応を行う．もしくは，クラスの偏りを考慮したランダムサンプリングを行う．\n",
        "\n",
        "やってみよう．"
      ]
    },
    {
      "cell_type": "code",
      "execution_count": null,
      "metadata": {
        "id": "23dL7n2g7XI0",
        "outputId": "2339deb6-43f4-429a-83b4-5b46f4c0cf73",
        "colab": {
          "base_uri": "https://localhost:8080/"
        }
      },
      "outputs": [
        {
          "output_type": "stream",
          "name": "stdout",
          "text": [
            "     sepalLen  sepalWid  petalLen  petalWid\n",
            "90        5.5       2.6       4.4       1.2\n",
            "79        5.7       2.6       3.5       1.0\n",
            "91        6.1       3.0       4.6       1.4\n",
            "137       6.4       3.1       5.5       1.8\n",
            "34        4.9       3.1       1.5       0.2\n",
            "110       6.5       3.2       5.1       2.0\n",
            "95        5.7       3.0       4.2       1.2\n",
            "122       7.7       2.8       6.7       2.0\n",
            "93        5.0       2.3       3.3       1.0\n",
            "128       6.4       2.8       5.6       2.1\n",
            "81        5.5       2.4       3.7       1.0\n",
            "149       5.9       3.0       5.1       1.8\n",
            "99        5.7       2.8       4.1       1.3\n",
            "45        4.8       3.0       1.4       0.3\n",
            "85        6.0       3.4       4.5       1.6 ['versicolor' 'versicolor' 'versicolor' 'virginica' 'setosa' 'virginica'\n",
            " 'versicolor' 'virginica' 'versicolor' 'virginica' 'versicolor'\n",
            " 'virginica' 'versicolor' 'setosa' 'versicolor']\n"
          ]
        }
      ],
      "source": [
        "import random\n",
        "\n",
        "# 単純なランダムサンプリング\n",
        "size = len(X)\n",
        "# random.sample(選択の範囲, 選択する数)→今回は0～size-1をランダム順に全て取得している．\n",
        "indexes = random.sample(range(size), size)\n",
        "# ランダム順なので，先頭1割を検証用indexに，残りを学習用indexにする．\n",
        "test = indexes[:(int)(size/10)]\n",
        "train = indexes[(int)(size/10):]\n",
        "\n",
        "# XはDataFrame型なので.iloc[index]で，yはnumpy型配列なのでスライシングで分割を記述する．\n",
        "X_train, y_train = X.iloc[train], y[train]\n",
        "X_test, y_test = X.iloc[test], y[test]\n",
        "\n",
        "print(X_test, y_test)"
      ]
    },
    {
      "cell_type": "code",
      "execution_count": null,
      "metadata": {
        "id": "s82vvngh7XI2",
        "outputId": "1d7c8d49-eae4-4a0f-a36d-d4b1157a7f36",
        "colab": {
          "base_uri": "https://localhost:8080/"
        }
      },
      "outputs": [
        {
          "output_type": "stream",
          "name": "stdout",
          "text": [
            "Perceptron \t accuracy:0.60\n"
          ]
        }
      ],
      "source": [
        "# 続いて，学習フェーズ，予測フェーズに分割してモデルを評価してみよう．\n",
        "\n",
        "# 1. Perceptronインスタンスの生成\n",
        "ppn = Perceptron(max_iter=40, eta0=0.1, random_state=0, shuffle=True)\n",
        "\n",
        "# 2. 訓練データ{X_train, y_train}を用いてモデルを訓練\n",
        "ppn.fit(X_train, y_train)\n",
        "\n",
        "# 3. 検証データX_testに対して予測\n",
        "y_pred = ppn.predict(X_test)\n",
        "\n",
        "# 精度算出\n",
        "print('Perceptron \\t accuracy:%.2f' % ((y_test == y_pred).sum()/len(y_test)) )"
      ]
    },
    {
      "cell_type": "code",
      "execution_count": null,
      "metadata": {
        "id": "Z0sRVWJe7XI4",
        "outputId": "8160da34-0dd0-4229-9288-3ae9d87c3c48",
        "colab": {
          "base_uri": "https://localhost:8080/"
        }
      },
      "outputs": [
        {
          "output_type": "stream",
          "name": "stdout",
          "text": [
            "Perceptron \t accuracy:0.60\n",
            "Neural Network \t accuracy:0.13\n",
            "Naive Bayes \t accuracy:1.00\n",
            "Decision Tree \t accuracy:1.00\n",
            "Random Forest \t accuracy:1.00\n",
            "SVM        \t accuracy:1.00\n"
          ]
        }
      ],
      "source": [
        "# そろそろ，同じ記述を何度も書くのが嫌なので，sklearnの「全て同じように使える」という利点を活かしていこう．\n",
        "\n",
        "# 学習モデルを辞書型｛名前:中身｝で保持する．Key-ValueペアとかHashMap的なものである．\n",
        "ESTIMATORS = {\"Perceptron\": Perceptron(max_iter=40, eta0=0.1, random_state=0, shuffle=True),\n",
        "              \"Neural Network\": MLPClassifier(solver='lbfgs', alpha=1e-5, hidden_layer_sizes=(5, 2), random_state=1),\n",
        "              \"Naive Bayes\": GaussianNB(),\n",
        "              \"Decision Tree\": DecisionTreeClassifier(),\n",
        "              \"Random Forest\": RandomForestClassifier(n_estimators=100, max_depth=2, random_state=0),\n",
        "              \"SVM       \": SVC(gamma='auto')}\n",
        "\n",
        "# ESTIMATORS全てに対して，以下を実施する．\n",
        "for name, clf in ESTIMATORS.items():\n",
        "    clf.fit(X_train, y_train)\n",
        "    y_pred = clf.predict(X_test)\n",
        "    print('%s \\t accuracy:%.2f' % (name, (y_test == y_pred).sum()/len(y_test)) )"
      ]
    },
    {
      "cell_type": "markdown",
      "metadata": {
        "id": "JtgIH1ju7XI5"
      },
      "source": [
        "## 交差検証\n",
        "上記によって，カンニングは防止することができたが，150個のデータのうち，15個でしか評価していない．すると以下のような課題が残る．\n",
        "- ランダムの15個が偏ってたまたま高い精度になったのでは？\n",
        "- 15個だけって評価材料が少なくない？\n",
        "\n",
        "だからといって，検証用データの比率を増加させると，「機械学習は学習データが多いほど高い精度となる」に反するため，本来の能力を計測できているとはいいがたい．\n",
        "\n",
        "そこで，データセットを無駄なく使ってモデルを評価する手法として，交差検証（Cross Validation）がある．ここではthe most populerな10-fold CVを例に，交差検証の方法を説明する．\n",
        "\n",
        "1. データセットをランダムサンプリングにより10分割する（サブセットA～Jとする）．\n",
        "1. Aを検証用に，残りを学習用にして，Aに対する予測結果を出力する（pred<sub>A</sub>とする）．\n",
        "1. Bを検証用に，同上する．\n",
        "1. …と10セット全てに対して実施する（pred<sub>A</sub>～pred<sub>J</sub>）．\n",
        "1. これらを結合したpred<sub>A2J</sub>と，対応する教師ラベルy<sub>A2J</sub>を用いて全体の精度評価とする．"
      ]
    },
    {
      "cell_type": "code",
      "execution_count": null,
      "metadata": {
        "id": "hOCif_UZ7XI6",
        "outputId": "8594bd6f-e76f-4c2c-8137-b76552f4a51f",
        "colab": {
          "base_uri": "https://localhost:8080/"
        }
      },
      "outputs": [
        {
          "output_type": "stream",
          "name": "stdout",
          "text": [
            "Random Forest \t accuracy:0.95\n"
          ]
        }
      ],
      "source": [
        "# 交差検証は自分で実装してもよいが便利なクラスが既に用意されている．\n",
        "from sklearn.model_selection import StratifiedKFold\n",
        "skf = StratifiedKFold(n_splits=10, shuffle=True)\n",
        "\n",
        "# skfは各クラスの比率を元のデータセットと同じにしながらK-foldするクラスである．\n",
        "# 例えばclf=RandomForest()を評価してみよう．\n",
        "clf = RandomForestClassifier(n_estimators=100, max_depth=2, random_state=0)\n",
        "result = pd.DataFrame() # ここに結果を残そう．\n",
        "for train, test in skf.split(X, y):\n",
        "    clf.fit(X.iloc[train], y[train])\n",
        "    y_pred = clf.predict(X.iloc[test])\n",
        "    result = result.append(pd.DataFrame({\"y\": y[test], \"pred\": y_pred}), ignore_index=True)\n",
        "print('Random Forest \\t accuracy:%.2f' % ((result[\"y\"] == result[\"pred\"]).sum()/len(result)) )"
      ]
    },
    {
      "cell_type": "code",
      "execution_count": null,
      "metadata": {
        "id": "QrpJe_287XI7",
        "outputId": "4de273b7-b8dd-47d0-be5a-c4b0548ff9c6",
        "colab": {
          "base_uri": "https://localhost:8080/"
        }
      },
      "outputs": [
        {
          "output_type": "stream",
          "name": "stdout",
          "text": [
            "Perceptron \t accuracy:0.82\n",
            "Neural Network \t accuracy:0.33\n",
            "Naive Bayes \t accuracy:0.96\n",
            "Decision Tree \t accuracy:0.94\n",
            "Random Forest \t accuracy:0.95\n",
            "SVM        \t accuracy:0.97\n"
          ]
        }
      ],
      "source": [
        "from sklearn.model_selection import StratifiedKFold\n",
        "skf = StratifiedKFold(n_splits=10, shuffle=True)\n",
        "\n",
        "# ESTIMATORS全てに対して，以下を実施する．\n",
        "for name, clf in ESTIMATORS.items():\n",
        "    result = pd.DataFrame() # ここに結果を残そう．\n",
        "    # skfは各クラスの比率を元のデータセットと同じにしながらK-foldするクラスである．\n",
        "    for train, test in skf.split(X, y):\n",
        "        clf.fit(X.iloc[train], y[train])\n",
        "        y_pred = clf.predict(X.iloc[test])\n",
        "        result = result.append(pd.DataFrame({\"y\": y[test], \"pred\": y_pred}), ignore_index=True)\n",
        "    print('%s \\t accuracy:%.2f' % (name, (result[\"y\"] == result[\"pred\"]).sum()/len(result)) )\n"
      ]
    },
    {
      "cell_type": "markdown",
      "metadata": {
        "id": "tNmo61IB9Gzh"
      },
      "source": [
        "# 練習問題1\n",
        "1. 下記を参考にdigitsデータセットをロードし，後ろから300件を検証用データに，残りを訓練データにして教師あり学習を行い，推定精度を評価せよ．全てのアルゴリズムを検証せよ．\n",
        "1. digitsデータセットは4bitグレースケールのようで，[0, 16]の整数値を取る．すなわち，16で割れば簡易的にMIN-MAX正規化と同等の働きになる．これを行った上で，推定精度を再度評価せよ．"
      ]
    },
    {
      "cell_type": "code",
      "execution_count": null,
      "metadata": {
        "colab": {
          "base_uri": "https://localhost:8080/",
          "height": 329
        },
        "id": "l3geHY6r8qoq",
        "outputId": "877a4394-5950-4d87-9f1f-1d17db59ce66"
      },
      "outputs": [
        {
          "output_type": "stream",
          "name": "stdout",
          "text": [
            "(1797, 64)\n"
          ]
        },
        {
          "output_type": "display_data",
          "data": {
            "text/plain": [
              "<Figure size 432x288 with 0 Axes>"
            ]
          },
          "metadata": {}
        },
        {
          "output_type": "display_data",
          "data": {
            "text/plain": [
              "<Figure size 288x288 with 1 Axes>"
            ],
            "image/png": "[encoded data removed]"
          },
          "metadata": {
            "needs_background": "light"
          }
        },
        {
          "output_type": "stream",
          "name": "stdout",
          "text": [
            "[0 1 2 ... 8 9 8]\n"
          ]
        }
      ],
      "source": [
        "# digitsデータの読み込み\n",
        "from sklearn.datasets import load_digits\n",
        "digits = load_digits()\n",
        "print(digits.data.shape)   # digitsデータセットは(1797, 64)ということで64（8x8）の配列が1797件あるデータセット．\n",
        "# 0番目のデータの可視化\n",
        "import matplotlib.pyplot as plt \n",
        "plt.gray() \n",
        "plt.matshow(digits.images[0]) \n",
        "plt.show() \n",
        "print(digits.target)"
      ]
    },
    {
      "cell_type": "code",
      "source": [
        "digits.data"
      ],
      "metadata": {
        "colab": {
          "base_uri": "https://localhost:8080/"
        },
        "id": "DNBCY78OwS-q",
        "outputId": "293909a9-c89f-45b5-d6d1-e316abd3ab63"
      },
      "execution_count": null,
      "outputs": [
        {
          "output_type": "execute_result",
          "data": {
            "text/plain": [
              "array([[ 0.,  0.,  5., ...,  0.,  0.,  0.],\n",
              "       [ 0.,  0.,  0., ..., 10.,  0.,  0.],\n",
              "       [ 0.,  0.,  0., ..., 16.,  9.,  0.],\n",
              "       ...,\n",
              "       [ 0.,  0.,  1., ...,  6.,  0.,  0.],\n",
              "       [ 0.,  0.,  2., ..., 12.,  0.,  0.],\n",
              "       [ 0.,  0., 10., ..., 12.,  1.,  0.]])"
            ]
          },
          "metadata": {},
          "execution_count": 29
        }
      ]
    },
    {
      "cell_type": "code",
      "source": [
        "digits.data.reshape(-1, 1)"
      ],
      "metadata": {
        "colab": {
          "base_uri": "https://localhost:8080/"
        },
        "id": "poivsEpqdgzx",
        "outputId": "32c5e578-fc79-4e7b-fd4e-bf3043f81bae"
      },
      "execution_count": null,
      "outputs": [
        {
          "output_type": "execute_result",
          "data": {
            "text/plain": [
              "array([[ 0.],\n",
              "       [ 0.],\n",
              "       [ 5.],\n",
              "       ...,\n",
              "       [12.],\n",
              "       [ 1.],\n",
              "       [ 0.]])"
            ]
          },
          "metadata": {},
          "execution_count": 28
        }
      ]
    },
    {
      "cell_type": "code",
      "source": [
        "digits.target.reshape(-1, 1)"
      ],
      "metadata": {
        "colab": {
          "base_uri": "https://localhost:8080/"
        },
        "id": "F2wMNDKodvV9",
        "outputId": "b84cb48b-121a-4390-f0ba-2ad24d3bc153"
      },
      "execution_count": null,
      "outputs": [
        {
          "output_type": "stream",
          "name": "stdout",
          "text": [
            "[[ 0.]\n",
            " [ 0.]\n",
            " [ 5.]\n",
            " ...\n",
            " [12.]\n",
            " [ 1.]\n",
            " [ 0.]]\n"
          ]
        }
      ]
    },
    {
      "cell_type": "code",
      "source": [
        "print(digits.data.reshape(-1, 1).shape)"
      ],
      "metadata": {
        "colab": {
          "base_uri": "https://localhost:8080/"
        },
        "id": "daVKKM2hwiyS",
        "outputId": "69e94e04-9f2a-4a4c-af90-39d4f69ed5e7"
      },
      "execution_count": null,
      "outputs": [
        {
          "output_type": "stream",
          "name": "stdout",
          "text": [
            "(115008, 1)\n"
          ]
        }
      ]
    },
    {
      "cell_type": "code",
      "source": [
        "digits.target"
      ],
      "metadata": {
        "colab": {
          "base_uri": "https://localhost:8080/"
        },
        "id": "xXbrNvNCvcuP",
        "outputId": "cc123015-6dbc-40db-d43e-fc00c36d6f25"
      },
      "execution_count": null,
      "outputs": [
        {
          "output_type": "execute_result",
          "data": {
            "text/plain": [
              "array([0, 1, 2, ..., 8, 9, 8])"
            ]
          },
          "metadata": {},
          "execution_count": 22
        }
      ]
    },
    {
      "cell_type": "code",
      "source": [
        "digits.target.shape"
      ],
      "metadata": {
        "colab": {
          "base_uri": "https://localhost:8080/"
        },
        "id": "uRV-ZzWHw4Zt",
        "outputId": "1887617b-ca27-4110-a1ad-a602c9773c76"
      },
      "execution_count": null,
      "outputs": [
        {
          "output_type": "execute_result",
          "data": {
            "text/plain": [
              "(1797,)"
            ]
          },
          "metadata": {},
          "execution_count": 33
        }
      ]
    },
    {
      "cell_type": "code",
      "source": [
        "\n",
        "digits"
      ],
      "metadata": {
        "colab": {
          "base_uri": "https://localhost:8080/"
        },
        "id": "zAYgH3Vuv6X7",
        "outputId": "75a92458-244f-4069-9df9-9a35787fee5a"
      },
      "execution_count": null,
      "outputs": [
        {
          "output_type": "execute_result",
          "data": {
            "text/plain": [
              "{'data': array([[ 0.,  0.,  5., ...,  0.,  0.,  0.],\n",
              "        [ 0.,  0.,  0., ..., 10.,  0.,  0.],\n",
              "        [ 0.,  0.,  0., ..., 16.,  9.,  0.],\n",
              "        ...,\n",
              "        [ 0.,  0.,  1., ...,  6.,  0.,  0.],\n",
              "        [ 0.,  0.,  2., ..., 12.,  0.,  0.],\n",
              "        [ 0.,  0., 10., ..., 12.,  1.,  0.]]),\n",
              " 'target': array([0, 1, 2, ..., 8, 9, 8]),\n",
              " 'frame': None,\n",
              " 'feature_names': ['pixel_0_0',\n",
              "  'pixel_0_1',\n",
              "  'pixel_0_2',\n",
              "  'pixel_0_3',\n",
              "  'pixel_0_4',\n",
              "  'pixel_0_5',\n",
              "  'pixel_0_6',\n",
              "  'pixel_0_7',\n",
              "  'pixel_1_0',\n",
              "  'pixel_1_1',\n",
              "  'pixel_1_2',\n",
              "  'pixel_1_3',\n",
              "  'pixel_1_4',\n",
              "  'pixel_1_5',\n",
              "  'pixel_1_6',\n",
              "  'pixel_1_7',\n",
              "  'pixel_2_0',\n",
              "  'pixel_2_1',\n",
              "  'pixel_2_2',\n",
              "  'pixel_2_3',\n",
              "  'pixel_2_4',\n",
              "  'pixel_2_5',\n",
              "  'pixel_2_6',\n",
              "  'pixel_2_7',\n",
              "  'pixel_3_0',\n",
              "  'pixel_3_1',\n",
              "  'pixel_3_2',\n",
              "  'pixel_3_3',\n",
              "  'pixel_3_4',\n",
              "  'pixel_3_5',\n",
              "  'pixel_3_6',\n",
              "  'pixel_3_7',\n",
              "  'pixel_4_0',\n",
              "  'pixel_4_1',\n",
              "  'pixel_4_2',\n",
              "  'pixel_4_3',\n",
              "  'pixel_4_4',\n",
              "  'pixel_4_5',\n",
              "  'pixel_4_6',\n",
              "  'pixel_4_7',\n",
              "  'pixel_5_0',\n",
              "  'pixel_5_1',\n",
              "  'pixel_5_2',\n",
              "  'pixel_5_3',\n",
              "  'pixel_5_4',\n",
              "  'pixel_5_5',\n",
              "  'pixel_5_6',\n",
              "  'pixel_5_7',\n",
              "  'pixel_6_0',\n",
              "  'pixel_6_1',\n",
              "  'pixel_6_2',\n",
              "  'pixel_6_3',\n",
              "  'pixel_6_4',\n",
              "  'pixel_6_5',\n",
              "  'pixel_6_6',\n",
              "  'pixel_6_7',\n",
              "  'pixel_7_0',\n",
              "  'pixel_7_1',\n",
              "  'pixel_7_2',\n",
              "  'pixel_7_3',\n",
              "  'pixel_7_4',\n",
              "  'pixel_7_5',\n",
              "  'pixel_7_6',\n",
              "  'pixel_7_7'],\n",
              " 'target_names': array([0, 1, 2, 3, 4, 5, 6, 7, 8, 9]),\n",
              " 'images': array([[[ 0.,  0.,  5., ...,  1.,  0.,  0.],\n",
              "         [ 0.,  0., 13., ..., 15.,  5.,  0.],\n",
              "         [ 0.,  3., 15., ..., 11.,  8.,  0.],\n",
              "         ...,\n",
              "         [ 0.,  4., 11., ..., 12.,  7.,  0.],\n",
              "         [ 0.,  2., 14., ..., 12.,  0.,  0.],\n",
              "         [ 0.,  0.,  6., ...,  0.,  0.,  0.]],\n",
              " \n",
              "        [[ 0.,  0.,  0., ...,  5.,  0.,  0.],\n",
              "         [ 0.,  0.,  0., ...,  9.,  0.,  0.],\n",
              "         [ 0.,  0.,  3., ...,  6.,  0.,  0.],\n",
              "         ...,\n",
              "         [ 0.,  0.,  1., ...,  6.,  0.,  0.],\n",
              "         [ 0.,  0.,  1., ...,  6.,  0.,  0.],\n",
              "         [ 0.,  0.,  0., ..., 10.,  0.,  0.]],\n",
              " \n",
              "        [[ 0.,  0.,  0., ..., 12.,  0.,  0.],\n",
              "         [ 0.,  0.,  3., ..., 14.,  0.,  0.],\n",
              "         [ 0.,  0.,  8., ..., 16.,  0.,  0.],\n",
              "         ...,\n",
              "         [ 0.,  9., 16., ...,  0.,  0.,  0.],\n",
              "         [ 0.,  3., 13., ..., 11.,  5.,  0.],\n",
              "         [ 0.,  0.,  0., ..., 16.,  9.,  0.]],\n",
              " \n",
              "        ...,\n",
              " \n",
              "        [[ 0.,  0.,  1., ...,  1.,  0.,  0.],\n",
              "         [ 0.,  0., 13., ...,  2.,  1.,  0.],\n",
              "         [ 0.,  0., 16., ..., 16.,  5.,  0.],\n",
              "         ...,\n",
              "         [ 0.,  0., 16., ..., 15.,  0.,  0.],\n",
              "         [ 0.,  0., 15., ..., 16.,  0.,  0.],\n",
              "         [ 0.,  0.,  2., ...,  6.,  0.,  0.]],\n",
              " \n",
              "        [[ 0.,  0.,  2., ...,  0.,  0.,  0.],\n",
              "         [ 0.,  0., 14., ..., 15.,  1.,  0.],\n",
              "         [ 0.,  4., 16., ..., 16.,  7.,  0.],\n",
              "         ...,\n",
              "         [ 0.,  0.,  0., ..., 16.,  2.,  0.],\n",
              "         [ 0.,  0.,  4., ..., 16.,  2.,  0.],\n",
              "         [ 0.,  0.,  5., ..., 12.,  0.,  0.]],\n",
              " \n",
              "        [[ 0.,  0., 10., ...,  1.,  0.,  0.],\n",
              "         [ 0.,  2., 16., ...,  1.,  0.,  0.],\n",
              "         [ 0.,  0., 15., ..., 15.,  0.,  0.],\n",
              "         ...,\n",
              "         [ 0.,  4., 16., ..., 16.,  6.,  0.],\n",
              "         [ 0.,  8., 16., ..., 16.,  8.,  0.],\n",
              "         [ 0.,  1.,  8., ..., 12.,  1.,  0.]]]),\n",
              " 'DESCR': \".. _digits_dataset:\\n\\nOptical recognition of handwritten digits dataset\\n--------------------------------------------------\\n\\n**Data Set Characteristics:**\\n\\n    :Number of Instances: 1797\\n    :Number of Attributes: 64\\n    :Attribute Information: 8x8 image of integer pixels in the range 0..16.\\n    :Missing Attribute Values: None\\n    :Creator: E. Alpaydin (alpaydin '@' boun.edu.tr)\\n    :Date: July; 1998\\n\\nThis is a copy of the test set of the UCI ML hand-written digits datasets\\nhttps://archive.ics.uci.edu/ml/datasets/Optical+Recognition+of+Handwritten+Digits\\n\\nThe data set contains images of hand-written digits: 10 classes where\\neach class refers to a digit.\\n\\nPreprocessing programs made available by NIST were used to extract\\nnormalized bitmaps of handwritten digits from a preprinted form. From a\\ntotal of 43 people, 30 contributed to the training set and different 13\\nto the test set. 32x32 bitmaps are divided into nonoverlapping blocks of\\n4x4 and the number of on pixels are counted in each block. This generates\\nan input matrix of 8x8 where each element is an integer in the range\\n0..16. This reduces dimensionality and gives invariance to small\\ndistortions.\\n\\nFor info on NIST preprocessing routines, see M. D. Garris, J. L. Blue, G.\\nT. Candela, D. L. Dimmick, J. Geist, P. J. Grother, S. A. Janet, and C.\\nL. Wilson, NIST Form-Based Handprint Recognition System, NISTIR 5469,\\n1994.\\n\\n.. topic:: References\\n\\n  - C. Kaynak (1995) Methods of Combining Multiple Classifiers and Their\\n    Applications to Handwritten Digit Recognition, MSc Thesis, Institute of\\n    Graduate Studies in Science and Engineering, Bogazici University.\\n  - E. Alpaydin, C. Kaynak (1998) Cascading Classifiers, Kybernetika.\\n  - Ken Tang and Ponnuthurai N. Suganthan and Xi Yao and A. Kai Qin.\\n    Linear dimensionalityreduction using relevance weighted LDA. School of\\n    Electrical and Electronic Engineering Nanyang Technological University.\\n    2005.\\n  - Claudio Gentile. A New Approximate Maximal Margin Classification\\n    Algorithm. NIPS. 2000.\\n\"}"
            ]
          },
          "metadata": {},
          "execution_count": 25
        }
      ]
    },
    {
      "cell_type": "code",
      "source": [
        "n_samples = len(digits.images) # 標本数 1797個\n",
        "X = digits.images.reshape((n_samples, -1))# 8x8の配列から64次元のベクトルに変換\n",
        "y = digits.target\n",
        "print(X)"
      ],
      "metadata": {
        "colab": {
          "base_uri": "https://localhost:8080/"
        },
        "id": "h5RTzE1QddyI",
        "outputId": "409e0c5e-37b3-4910-8245-ff6b387599cf"
      },
      "execution_count": null,
      "outputs": [
        {
          "output_type": "stream",
          "name": "stdout",
          "text": [
            "[[ 0.  0.  5. ...  0.  0.  0.]\n",
            " [ 0.  0.  0. ... 10.  0.  0.]\n",
            " [ 0.  0.  0. ... 16.  9.  0.]\n",
            " ...\n",
            " [ 0.  0.  1. ...  6.  0.  0.]\n",
            " [ 0.  0.  2. ... 12.  0.  0.]\n",
            " [ 0.  0. 10. ... 12.  1.  0.]]\n"
          ]
        }
      ]
    },
    {
      "cell_type": "code",
      "execution_count": null,
      "metadata": {
        "id": "ALg0Ho52-B35",
        "colab": {
          "base_uri": "https://localhost:8080/"
        },
        "outputId": "ef660688-9ef9-4f20-d408-811e07f3581b"
      },
      "outputs": [
        {
          "output_type": "stream",
          "name": "stdout",
          "text": [
            "Perceptron \t accuracy:0.89\n"
          ]
        },
        {
          "output_type": "stream",
          "name": "stderr",
          "text": [
            "/usr/local/lib/python3.7/dist-packages/sklearn/neural_network/_multilayer_perceptron.py:549: ConvergenceWarning: lbfgs failed to converge (status=1):\n",
            "STOP: TOTAL NO. of ITERATIONS REACHED LIMIT.\n",
            "\n",
            "Increase the number of iterations (max_iter) or scale the data as shown in:\n",
            "    https://scikit-learn.org/stable/modules/preprocessing.html\n",
            "  self.n_iter_ = _check_optimize_result(\"lbfgs\", opt_res, self.max_iter)\n"
          ]
        },
        {
          "output_type": "stream",
          "name": "stdout",
          "text": [
            "Neural Network \t accuracy:0.49\n",
            "Naive Bayes \t accuracy:0.80\n",
            "Decision Tree \t accuracy:0.78\n",
            "Random Forest \t accuracy:0.78\n",
            "SVM        \t accuracy:0.46\n"
          ]
        }
      ],
      "source": [
        "from sklearn.linear_model import Perceptron\n",
        "from sklearn.neural_network import MLPClassifier\n",
        "from sklearn.naive_bayes import GaussianNB\n",
        "from sklearn.tree import DecisionTreeClassifier\n",
        "from sklearn.ensemble import RandomForestClassifier\n",
        "from sklearn.svm import SVC\n",
        "# 学習モデルを辞書型｛名前:中身｝で保持する．Key-ValueペアとかHashMap的なものである．\n",
        "ESTIMATORS = {\"Perceptron\": Perceptron(max_iter=40, eta0=0.1, random_state=0, shuffle=True),\n",
        "              \"Neural Network\": MLPClassifier(solver='lbfgs', alpha=1e-5, hidden_layer_sizes=(5, 2), random_state=1),\n",
        "              \"Naive Bayes\": GaussianNB(),\n",
        "              \"Decision Tree\": DecisionTreeClassifier(),\n",
        "              \"Random Forest\": RandomForestClassifier(n_estimators=100, max_depth=2, random_state=0),\n",
        "              \"SVM       \": SVC(gamma='auto')}\n",
        "\n",
        "\n",
        "\n",
        "# 練習問題1-(1)\n",
        "X_train = X[:-300]\n",
        "X_test = X[-300:]\n",
        "\n",
        "y_train = y[:-300]\n",
        "y_test = y[-300:]\n",
        "\n",
        "for name, clf in ESTIMATORS.items():\n",
        "    clf.fit(X_train, y_train)\n",
        "    y_pred = clf.predict(X_test)\n",
        "    print('%s \\t accuracy:%.2f' % (name, (y_test == y_pred).sum()/len(y_test)) )\n"
      ]
    },
    {
      "cell_type": "code",
      "source": [
        "# 練習問題1-(2)\n",
        "import numpy as np\n",
        "\n",
        "from sklearn.preprocessing import MinMaxScaler,StandardScaler\n",
        "\n",
        "scaler = MinMaxScaler()\n",
        "lin_min, lin_max = X.min(), X.max()\n",
        "\n",
        "scaler.fit(np.array([lin_min, lin_max]).reshape(-1, 1))\n",
        "data_scaled = scaler.transform(X)\n",
        "\n",
        "X_train = data_scaled[:-300]\n",
        "X_test = data_scaled[-300:]\n",
        "\n",
        "# y_train = data_scaled.target[:-300]\n",
        "# y_test = data_scaled.target[-300:]\n",
        "\n",
        "for name, clf in ESTIMATORS.items():\n",
        "    clf.fit(X_train, y_train)\n",
        "    y_pred = clf.predict(X_test)\n",
        "    print('%s \\t accuracy:%.2f' % (name, (y_test == y_pred).sum()/len(y_test)) )\n",
        "\n"
      ],
      "metadata": {
        "id": "K0OQFyCGeUDQ"
      },
      "execution_count": null,
      "outputs": []
    },
    {
      "cell_type": "code",
      "source": [
        "from sklearn.preprocessing import MinMaxScaler,StandardScaler\n",
        "\n",
        "ss = StandardScaler()\n",
        "ss.fit(digits.data)\n",
        "data_scaled = scaler.transform(digits.data).std()\n",
        "\n",
        "X_train = data_scaled.data[:-300]\n",
        "X_test = data_scaled.data[-300:]\n",
        "\n",
        "# y_train = data_scaled.target[:-300]\n",
        "# y_test = data_scaled.target[-300:]\n",
        "\n",
        "for name, clf in ESTIMATORS.items():\n",
        "    clf.fit(X_train, y_train)\n",
        "    y_pred = clf.predict(X_test)\n",
        "    print('%s \\t accuracy:%.2f' % (name, (y_test == y_pred).sum()/len(y_test)) )"
      ],
      "metadata": {
        "id": "kkwGKE4yeMaS"
      },
      "execution_count": null,
      "outputs": []
    }
  ],
  "metadata": {
    "colab": {
      "provenance": []
    },
    "kernelspec": {
      "display_name": "Python 3",
      "language": "python",
      "name": "python3"
    },
    "language_info": {
      "codemirror_mode": {
        "name": "ipython",
        "version": 3
      },
      "file_extension": ".py",
      "mimetype": "text/x-python",
      "name": "python",
      "nbconvert_exporter": "python",
      "pygments_lexer": "ipython3",
      "version": "3.7.10"
    }
  },
  "nbformat": 4,
  "nbformat_minor": 0
}